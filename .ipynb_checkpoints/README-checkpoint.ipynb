{
 "cells": [
  {
   "cell_type": "markdown",
   "metadata": {},
   "source": [
    "# PID Control"
   ]
  },
  {
   "cell_type": "markdown",
   "metadata": {},
   "source": [
    "In this project, I implemented a PID control to steer a car on a track in a simulator. In particular, I had to tune the corresponding parameters such that the car would not depart from the correct path."
   ]
  },
  {
   "cell_type": "markdown",
   "metadata": {},
   "source": [
    "My submission includes the following files:\n",
    "\n",
    "- __main.cpp__: Here, the initialization of the PID controller is called as well as the Update step that returns the steering command.\n",
    "- __pid.cpp__: In this file, most of the programming takes place including the initialization of the filter, the UpdateError routine and the Twiddle algorithm for hyperparameter tuning. The function TotalError computes the steering command.\n",
    "- __pid.h__: The corresponding header file."
   ]
  },
  {
   "cell_type": "markdown",
   "metadata": {},
   "source": [
    "## Implementation"
   ]
  },
  {
   "cell_type": "markdown",
   "metadata": {},
   "source": [
    "I implemented the PID control as was presented in the lecture by Sebastian Thrun. The steering command is given by the function TotalError. This procedure is called by the function UpdateError that receives the current CTE (Cross Track Error)."
   ]
  },
  {
   "cell_type": "markdown",
   "metadata": {},
   "source": [
    "## Reflection"
   ]
  },
  {
   "cell_type": "markdown",
   "metadata": {},
   "source": [
    "In order for the PID controller to work, it is very crucial to choose the right parameters. First, I wanted to start by setting the initial parameters all to zero and just using the twiddle algorithm to tune them. As it turned out, this did not work very well.\n",
    "\n",
    "Therefore, I started experimenting more manually until I found the starting values [0.1, 0.01, 10] which worked quite well already. Then, I used the twiddle algorithm to do some fine-tuning and ended with the values [0.082, 0.012, 9.331]. With this setting, the car is able to drive safely through the track.\n",
    "\n",
    "For the manuel tuning, I started by experimenting with the Kp parameter value first, then with the Kd parameter. Here, I found it helpful to have quite a large value in comparison in order to be able to do sharp turns. After that the car drove quite well and choosing the Ki value was only necessary to smoothen the result. Therefore, for my results the parameters Kp and Kd were more important than the Ki value.\n",
    "\n",
    "In the main.cpp file, I also implemented a speed up (to use it, you just have to uncomment it). If the CTE is low, the car is going to speed up. With this setting, the car is still able to manage the track. It is much faster but also less smooth. "
   ]
  },
  {
   "cell_type": "markdown",
   "metadata": {},
   "source": [
    "## Simulation"
   ]
  },
  {
   "cell_type": "markdown",
   "metadata": {},
   "source": [
    "The car drives safely thorugh the track"
   ]
  },
  {
   "cell_type": "markdown",
   "metadata": {},
   "source": [
    "## Discussion"
   ]
  },
  {
   "cell_type": "markdown",
   "metadata": {},
   "source": [
    "I found that the manual tuning was more important than the twiddle algorithm which I only used for fine-tuning. It would be interesting to apply reinforcement learning in order to obtain an optimal driving behavior."
   ]
  }
 ],
 "metadata": {
  "kernelspec": {
   "display_name": "Python 3",
   "language": "python",
   "name": "python3"
  },
  "language_info": {
   "codemirror_mode": {
    "name": "ipython",
    "version": 3
   },
   "file_extension": ".py",
   "mimetype": "text/x-python",
   "name": "python",
   "nbconvert_exporter": "python",
   "pygments_lexer": "ipython3",
   "version": "3.5.2"
  },
  "widgets": {
   "state": {},
   "version": "1.1.2"
  }
 },
 "nbformat": 4,
 "nbformat_minor": 2
}
